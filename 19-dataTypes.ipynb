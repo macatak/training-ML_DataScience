{
 "cells": [
  {
   "cell_type": "markdown",
   "metadata": {},
   "source": [
    "Working with dataframes"
   ]
  },
  {
   "cell_type": "code",
   "execution_count": 75,
   "metadata": {},
   "outputs": [],
   "source": [
    "import pandas as pd\n",
    "data = pd.read_csv('lsd-math-score-data.csv')"
   ]
  },
  {
   "cell_type": "code",
   "execution_count": 76,
   "metadata": {},
   "outputs": [
    {
     "name": "stdout",
     "output_type": "stream",
     "text": [
      "   Time_Delay_in_Minutes  LSD_ppm  Avg_Math_Test_Score\n",
      "0                      5     1.17                78.93\n",
      "1                     15     2.97                58.20\n",
      "2                     30     3.26                67.47\n",
      "3                     60     4.69                37.47\n",
      "4                    120     5.83                45.65\n",
      "5                    240     6.00                32.92\n",
      "6                    480     6.41                29.97\n"
     ]
    }
   ],
   "source": [
    "print(data)"
   ]
  },
  {
   "cell_type": "code",
   "execution_count": 77,
   "metadata": {},
   "outputs": [
    {
     "data": {
      "text/plain": [
       "pandas.core.frame.DataFrame"
      ]
     },
     "execution_count": 77,
     "metadata": {},
     "output_type": "execute_result"
    }
   ],
   "source": [
    "type(data)"
   ]
  },
  {
   "cell_type": "markdown",
   "metadata": {},
   "source": [
    "get a specific column"
   ]
  },
  {
   "cell_type": "code",
   "execution_count": 78,
   "metadata": {},
   "outputs": [
    {
     "name": "stdout",
     "output_type": "stream",
     "text": [
      "0    78.93\n",
      "1    58.20\n",
      "2    67.47\n",
      "3    37.47\n",
      "4    45.65\n",
      "5    32.92\n",
      "6    29.97\n",
      "Name: Avg_Math_Test_Score, dtype: float64\n"
     ]
    }
   ],
   "source": [
    "onlyMathScores = data['Avg_Math_Test_Score']\n",
    "print(onlyMathScores)"
   ]
  },
  {
   "cell_type": "markdown",
   "metadata": {},
   "source": [
    "add a new column named Test_subject\n",
    "will set all columns to Zaphod"
   ]
  },
  {
   "cell_type": "code",
   "execution_count": 79,
   "metadata": {},
   "outputs": [
    {
     "name": "stdout",
     "output_type": "stream",
     "text": [
      "   Time_Delay_in_Minutes  LSD_ppm  Avg_Math_Test_Score Test_subject\n",
      "0                      5     1.17                78.93       Zaphod\n",
      "1                     15     2.97                58.20       Zaphod\n",
      "2                     30     3.26                67.47       Zaphod\n",
      "3                     60     4.69                37.47       Zaphod\n",
      "4                    120     5.83                45.65       Zaphod\n",
      "5                    240     6.00                32.92       Zaphod\n",
      "6                    480     6.41                29.97       Zaphod\n"
     ]
    }
   ],
   "source": [
    "data['Test_subject'] = 'Zaphod'\n",
    "print(data)"
   ]
  },
  {
   "cell_type": "markdown",
   "metadata": {},
   "source": [
    "edit values in a column\n"
   ]
  },
  {
   "cell_type": "code",
   "execution_count": 80,
   "metadata": {},
   "outputs": [
    {
     "name": "stdout",
     "output_type": "stream",
     "text": [
      "   Time_Delay_in_Minutes  LSD_ppm  Avg_Math_Test_Score Test_subject  \\\n",
      "0                      5     1.17                78.93       Zaphod   \n",
      "1                     15     2.97                58.20       Zaphod   \n",
      "2                     30     3.26                67.47       Zaphod   \n",
      "3                     60     4.69                37.47       Zaphod   \n",
      "4                    120     5.83                45.65       Zaphod   \n",
      "5                    240     6.00                32.92       Zaphod   \n",
      "6                    480     6.41                29.97       Zaphod   \n",
      "\n",
      "   high_score  \n",
      "0         100  \n",
      "1         100  \n",
      "2         100  \n",
      "3         100  \n",
      "4         100  \n",
      "5         100  \n",
      "6         100  \n"
     ]
    }
   ],
   "source": [
    " # add a new column\n",
    "data['high_score'] = 100\n",
    "print(data)"
   ]
  },
  {
   "cell_type": "code",
   "execution_count": 81,
   "metadata": {},
   "outputs": [
    {
     "name": "stdout",
     "output_type": "stream",
     "text": [
      "   Time_Delay_in_Minutes  LSD_ppm  Avg_Math_Test_Score Test_subject  \\\n",
      "0                      5     1.17                78.93       Zaphod   \n",
      "1                     15     2.97                58.20       Zaphod   \n",
      "2                     30     3.26                67.47       Zaphod   \n",
      "3                     60     4.69                37.47       Zaphod   \n",
      "4                    120     5.83                45.65       Zaphod   \n",
      "5                    240     6.00                32.92       Zaphod   \n",
      "6                    480     6.41                29.97       Zaphod   \n",
      "\n",
      "   high_score  \n",
      "0      178.93  \n",
      "1      158.20  \n",
      "2      167.47  \n",
      "3      137.47  \n",
      "4      145.65  \n",
      "5      132.92  \n",
      "6      129.97  \n"
     ]
    }
   ],
   "source": [
    "# edit the high score to be equal to the average score plus 100\n",
    "data['high_score'] = data['high_score'] + data['Avg_Math_Test_Score']\n",
    "print(data)"
   ]
  },
  {
   "cell_type": "code",
   "execution_count": 82,
   "metadata": {},
   "outputs": [
    {
     "name": "stdout",
     "output_type": "stream",
     "text": [
      "   Time_Delay_in_Minutes  LSD_ppm  Avg_Math_Test_Score Test_subject  \\\n",
      "0                      5     1.17                78.93       Zaphod   \n",
      "1                     15     2.97                58.20       Zaphod   \n",
      "2                     30     3.26                67.47       Zaphod   \n",
      "3                     60     4.69                37.47       Zaphod   \n",
      "4                    120     5.83                45.65       Zaphod   \n",
      "5                    240     6.00                32.92       Zaphod   \n",
      "6                    480     6.41                29.97       Zaphod   \n",
      "\n",
      "   high_score  \n",
      "0  32015.9449  \n",
      "1  25027.2400  \n",
      "2  28046.2009  \n",
      "3  18898.0009  \n",
      "4  21213.9225  \n",
      "5  17667.7264  \n",
      "6  16892.2009  \n"
     ]
    }
   ],
   "source": [
    "# sqaure the values in the high score column\n",
    "data['high_score'] = data['high_score'] ** 2\n",
    "print(data)"
   ]
  },
  {
   "cell_type": "code",
   "execution_count": 83,
   "metadata": {},
   "outputs": [
    {
     "data": {
      "text/plain": [
       "pandas.core.series.Series"
      ]
     },
     "execution_count": 83,
     "metadata": {},
     "output_type": "execute_result"
    }
   ],
   "source": [
    "type(onlyMathScores)\n",
    "# series are a lot like an array\n",
    "# but only 1 column\n",
    "# a dataframe is made up of more than 1 series"
   ]
  },
  {
   "cell_type": "code",
   "execution_count": 84,
   "metadata": {},
   "outputs": [
    {
     "name": "stdout",
     "output_type": "stream",
     "text": [
      "   LSD_ppm  Avg_Math_Test_Score\n",
      "0     1.17                78.93\n",
      "1     2.97                58.20\n",
      "2     3.26                67.47\n",
      "3     4.69                37.47\n",
      "4     5.83                45.65\n",
      "5     6.00                32.92\n",
      "6     6.41                29.97\n"
     ]
    },
    {
     "data": {
      "text/plain": [
       "pandas.core.frame.DataFrame"
      ]
     },
     "execution_count": 84,
     "metadata": {},
     "output_type": "execute_result"
    }
   ],
   "source": [
    "# create a new dataframe with just average test scores and ppm\n",
    "# named columnList\n",
    "# long way\n",
    "#columnList = ['LSD_ppm', 'Avg_Math_Test_Score']\n",
    "#cleanData = data[columnList]\n",
    "\n",
    "# short way\n",
    "# inner [] provides a list as input\n",
    "cleanData = data[['LSD_ppm', 'Avg_Math_Test_Score']]\n",
    "\n",
    "print(cleanData)\n",
    "\n",
    "# print the type\n",
    "type(cleanData)\n"
   ]
  },
  {
   "cell_type": "code",
   "execution_count": 85,
   "metadata": {},
   "outputs": [
    {
     "data": {
      "text/plain": [
       "pandas.core.frame.DataFrame"
      ]
     },
     "execution_count": 85,
     "metadata": {},
     "output_type": "execute_result"
    }
   ],
   "source": [
    "# set y to be a dataframe (not a list) of the average math scores\n",
    "y = data[['Avg_Math_Test_Score']]\n",
    "type(y)"
   ]
  },
  {
   "cell_type": "code",
   "execution_count": 86,
   "metadata": {},
   "outputs": [
    {
     "name": "stdout",
     "output_type": "stream",
     "text": [
      "   LSD_ppm\n",
      "0     1.17\n",
      "1     2.97\n",
      "2     3.26\n",
      "3     4.69\n",
      "4     5.83\n",
      "5     6.00\n",
      "6     6.41\n"
     ]
    },
    {
     "data": {
      "text/plain": [
       "pandas.core.frame.DataFrame"
      ]
     },
     "execution_count": 86,
     "metadata": {},
     "output_type": "execute_result"
    }
   ],
   "source": [
    "# set x to be equal to the ppm\n",
    "x = data[['LSD_ppm']]\n",
    "print(x)\n",
    "type(x)"
   ]
  },
  {
   "cell_type": "code",
   "execution_count": 87,
   "metadata": {},
   "outputs": [
    {
     "name": "stdout",
     "output_type": "stream",
     "text": [
      "   Time_Delay_in_Minutes  LSD_ppm  Avg_Math_Test_Score\n",
      "0                      5     1.17                78.93\n",
      "1                     15     2.97                58.20\n",
      "2                     30     3.26                67.47\n",
      "3                     60     4.69                37.47\n",
      "4                    120     5.83                45.65\n",
      "5                    240     6.00                32.92\n",
      "6                    480     6.41                29.97\n"
     ]
    }
   ],
   "source": [
    "# delete a column from a dataframe\n",
    "del data['Test_subject']\n",
    "del data['high_score']\n",
    "print(data)"
   ]
  },
  {
   "cell_type": "code",
   "execution_count": null,
   "metadata": {},
   "outputs": [],
   "source": []
  },
  {
   "cell_type": "code",
   "execution_count": null,
   "metadata": {},
   "outputs": [],
   "source": []
  },
  {
   "cell_type": "code",
   "execution_count": null,
   "metadata": {},
   "outputs": [],
   "source": []
  }
 ],
 "metadata": {
  "kernelspec": {
   "display_name": "Python 3",
   "language": "python",
   "name": "python3"
  },
  "language_info": {
   "codemirror_mode": {
    "name": "ipython",
    "version": 3
   },
   "file_extension": ".py",
   "mimetype": "text/x-python",
   "name": "python",
   "nbconvert_exporter": "python",
   "pygments_lexer": "ipython3",
   "version": "3.7.3"
  }
 },
 "nbformat": 4,
 "nbformat_minor": 2
}
