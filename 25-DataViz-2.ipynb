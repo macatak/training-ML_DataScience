{
 "cells": [
  {
   "cell_type": "code",
   "execution_count": 34,
   "metadata": {},
   "outputs": [],
   "source": [
    "import pandas as pd\n",
    "import matplotlib.pyplot as plt\n",
    "data = pd.read_csv('lsd-math-score-data.csv')"
   ]
  },
  {
   "cell_type": "code",
   "execution_count": 35,
   "metadata": {},
   "outputs": [
    {
     "data": {
      "text/html": [
       "<div>\n",
       "<style scoped>\n",
       "    .dataframe tbody tr th:only-of-type {\n",
       "        vertical-align: middle;\n",
       "    }\n",
       "\n",
       "    .dataframe tbody tr th {\n",
       "        vertical-align: top;\n",
       "    }\n",
       "\n",
       "    .dataframe thead th {\n",
       "        text-align: right;\n",
       "    }\n",
       "</style>\n",
       "<table border=\"1\" class=\"dataframe\">\n",
       "  <thead>\n",
       "    <tr style=\"text-align: right;\">\n",
       "      <th></th>\n",
       "      <th>Time_Delay_in_Minutes</th>\n",
       "      <th>LSD_ppm</th>\n",
       "      <th>Avg_Math_Test_Score</th>\n",
       "    </tr>\n",
       "  </thead>\n",
       "  <tbody>\n",
       "    <tr>\n",
       "      <th>0</th>\n",
       "      <td>5</td>\n",
       "      <td>1.17</td>\n",
       "      <td>78.93</td>\n",
       "    </tr>\n",
       "    <tr>\n",
       "      <th>1</th>\n",
       "      <td>15</td>\n",
       "      <td>2.97</td>\n",
       "      <td>58.20</td>\n",
       "    </tr>\n",
       "    <tr>\n",
       "      <th>2</th>\n",
       "      <td>30</td>\n",
       "      <td>3.26</td>\n",
       "      <td>67.47</td>\n",
       "    </tr>\n",
       "    <tr>\n",
       "      <th>3</th>\n",
       "      <td>60</td>\n",
       "      <td>4.69</td>\n",
       "      <td>37.47</td>\n",
       "    </tr>\n",
       "    <tr>\n",
       "      <th>4</th>\n",
       "      <td>120</td>\n",
       "      <td>5.83</td>\n",
       "      <td>45.65</td>\n",
       "    </tr>\n",
       "    <tr>\n",
       "      <th>5</th>\n",
       "      <td>240</td>\n",
       "      <td>6.00</td>\n",
       "      <td>32.92</td>\n",
       "    </tr>\n",
       "    <tr>\n",
       "      <th>6</th>\n",
       "      <td>480</td>\n",
       "      <td>6.41</td>\n",
       "      <td>29.97</td>\n",
       "    </tr>\n",
       "  </tbody>\n",
       "</table>\n",
       "</div>"
      ],
      "text/plain": [
       "   Time_Delay_in_Minutes  LSD_ppm  Avg_Math_Test_Score\n",
       "0                      5     1.17                78.93\n",
       "1                     15     2.97                58.20\n",
       "2                     30     3.26                67.47\n",
       "3                     60     4.69                37.47\n",
       "4                    120     5.83                45.65\n",
       "5                    240     6.00                32.92\n",
       "6                    480     6.41                29.97"
      ]
     },
     "execution_count": 35,
     "metadata": {},
     "output_type": "execute_result"
    }
   ],
   "source": [
    "data"
   ]
  },
  {
   "cell_type": "code",
   "execution_count": 36,
   "metadata": {},
   "outputs": [],
   "source": [
    "# set the columns\n",
    "time = data['Time_Delay_in_Minutes']\n",
    "lsd = data ['LSD_ppm']\n",
    "score = data['Avg_Math_Test_Score']"
   ]
  },
  {
   "cell_type": "markdown",
   "metadata": {},
   "source": [
    "Check out matplotlib styles  \n",
    "unofficial - https://tonysyu.github.io/raw_content/matplotlib-style-gallery/gallery.html  \n",
    "official - https://matplotlib.org/users/style_sheets.html  \n",
    "Gallery - https://matplotlib.org/gallery.html  "
   ]
  },
  {
   "cell_type": "code",
   "execution_count": 37,
   "metadata": {},
   "outputs": [
    {
     "data": {
      "image/png": "[encoded data removed]",
      "text/plain": [
       "<Figure size 432x288 with 1 Axes>"
      ]
     },
     "metadata": {
      "needs_background": "light"
     },
     "output_type": "display_data"
    }
   ],
   "source": [
    "# tell Jupyter to export\n",
    "%matplotlib inline\n",
    "\n",
    "# !!!!!!!!!!!   this is all chart formatting  !!!!!!!!!!!!!!\n",
    "\n",
    "plt.title('Tissue concentration of LSD over time', fontsize=17) \n",
    "plt.xlabel('Time in Minutes', fontsize=14)\n",
    "plt.ylabel('Tissue LSD PPM', fontsize=14)\n",
    "# add footnote text\n",
    "plt.text(x=500, y=-0.50, s='foot note here')\n",
    "\n",
    "# set the numbers to be the same size as the labels\n",
    "plt.xticks(fontsize=14)\n",
    "plt.yticks(fontsize=14)\n",
    "\n",
    "# set a hard range\n",
    "plt.ylim(1,7)\n",
    "plt.xlim(0, 500)\n",
    "\n",
    "# set a style\n",
    "# plt.style.use('classic')\n",
    "# plt.style.use('dark_background')\n",
    "plt.style.use('ggplot')\n",
    "\n",
    "# !!!!!!!!!!!! end of formatting !!!!!!!!!!!!!!!!!!!!\n",
    "\n",
    "\n",
    "# uses a hexcode for the color\n",
    "plt.plot(time, lsd, color='#e74c3c', linewidth=3)\n",
    "plt.show()"
   ]
  },
  {
   "cell_type": "code",
   "execution_count": null,
   "metadata": {},
   "outputs": [],
   "source": []
  },
  {
   "cell_type": "code",
   "execution_count": null,
   "metadata": {},
   "outputs": [],
   "source": []
  },
  {
   "cell_type": "code",
   "execution_count": null,
   "metadata": {},
   "outputs": [],
   "source": []
  }
 ],
 "metadata": {
  "kernelspec": {
   "display_name": "Python 3",
   "language": "python",
   "name": "python3"
  },
  "language_info": {
   "codemirror_mode": {
    "name": "ipython",
    "version": 3
   },
   "file_extension": ".py",
   "mimetype": "text/x-python",
   "name": "python",
   "nbconvert_exporter": "python",
   "pygments_lexer": "ipython3",
   "version": "3.7.3"
  }
 },
 "nbformat": 4,
 "nbformat_minor": 2
}
